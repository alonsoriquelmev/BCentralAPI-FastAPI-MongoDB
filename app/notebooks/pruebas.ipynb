{
 "cells": [
  {
   "cell_type": "code",
   "execution_count": 1,
   "metadata": {},
   "outputs": [
    {
     "ename": "ModuleNotFoundError",
     "evalue": "No module named 'data'",
     "output_type": "error",
     "traceback": [
      "\u001b[1;31m---------------------------------------------------------------------------\u001b[0m",
      "\u001b[1;31mModuleNotFoundError\u001b[0m                       Traceback (most recent call last)",
      "Cell \u001b[1;32mIn[1], line 2\u001b[0m\n\u001b[0;32m      1\u001b[0m \u001b[39mimport\u001b[39;00m \u001b[39mpandas\u001b[39;00m \u001b[39mas\u001b[39;00m \u001b[39mpd\u001b[39;00m\n\u001b[1;32m----> 2\u001b[0m \u001b[39mfrom\u001b[39;00m \u001b[39mdata\u001b[39;00m \u001b[39mimport\u001b[39;00m swaps_from_bc\n\u001b[0;32m      3\u001b[0m \u001b[39mimport\u001b[39;00m \u001b[39mdatetime\u001b[39;00m \u001b[39mas\u001b[39;00m \u001b[39mdt\u001b[39;00m\n",
      "\u001b[1;31mModuleNotFoundError\u001b[0m: No module named 'data'"
     ]
    }
   ],
   "source": [
    "import pandas as pd\n",
    "from data import swaps_from_bc\n",
    "import datetime as dt"
   ]
  },
  {
   "cell_type": "code",
   "execution_count": null,
   "metadata": {},
   "outputs": [],
   "source": [
    "year_ini = pd.to_datetime('2022-11-30').year"
   ]
  },
  {
   "cell_type": "code",
   "execution_count": null,
   "metadata": {},
   "outputs": [],
   "source": [
    "type(year_ini)"
   ]
  },
  {
   "cell_type": "code",
   "execution_count": null,
   "metadata": {},
   "outputs": [],
   "source": [
    "year_ini = pd.to_datetime('2022-01-01').year\n",
    "year_end = pd.to_datetime('2022-03-31').year\n",
    "years_diff = year_end - year_ini\n",
    "if years_diff == 0:\n",
    "    df_swaps = swaps_from_bc(str(year_ini))\n",
    "    df_swaps = df_swaps.sort_values('Fecha')\n",
    "elif years_diff != 0:\n",
    "    year_aux = year_ini\n",
    "    df_swaps = pd.DataFrame()\n",
    "    for i in range(years_diff+1):\n",
    "        df_aux = swaps_from_bc(str(year_aux))\n",
    "        df_swaps = pd.concat([df_swaps,df_aux])\n",
    "        year_aux += 1\n",
    "    df_swaps = df_swaps.sort_values('Fecha')\n",
    "        \n",
    "\n",
    "data_swaps = df_swaps[(df_swaps['Fecha'] >= '2020-01-01') & (df_swaps['Fecha'] <= '2022-03-31') & (df_swaps['Swap_Index'] == 'SPC CLP')]"
   ]
  },
  {
   "cell_type": "code",
   "execution_count": null,
   "metadata": {},
   "outputs": [],
   "source": [
    "data_swaps"
   ]
  },
  {
   "cell_type": "code",
   "execution_count": null,
   "metadata": {},
   "outputs": [],
   "source": [
    "swaps_object = {'Fecha' : [], 'Swap_Index' : [], 'Tenor' : [], 'Valor' : []}\n",
    "for index,row in data_swaps.iterrows():\n",
    "        swaps_object['Fecha'].append(dt.date.strftime(row['Fecha'],'%Y-%m-%d'))\n",
    "        swaps_object['Swap_Index'].append(row['Swap_Index'])\n",
    "        swaps_object['Tenor'].append(row['Tenor'])\n",
    "        swaps_object['Valor'].append(row['Valor'])"
   ]
  },
  {
   "cell_type": "code",
   "execution_count": null,
   "metadata": {},
   "outputs": [],
   "source": [
    "swaps_object"
   ]
  },
  {
   "cell_type": "code",
   "execution_count": null,
   "metadata": {},
   "outputs": [],
   "source": [
    "numstring = '10'\n",
    "numstring_2 = '2'\n",
    "numstring_3 = '-37'\n",
    "numstring_4 = '-5'\n",
    "numstring_5 = '49'"
   ]
  },
  {
   "cell_type": "code",
   "execution_count": null,
   "metadata": {},
   "outputs": [],
   "source": [
    "def add_dot(numberString):\n",
    "    str_aux = numberString.replace(numberString[-1],'.'+numberString[-1])\n",
    "    return str_aux\n",
    "\n",
    "numlist = [numstring,numstring_2,numstring_3,numstring_4,numstring_5]\n",
    "for i in range(len(numlist)):\n",
    "    numlist[i] = float(add_dot(numlist[i]))\n",
    "print(numlist)"
   ]
  }
 ],
 "metadata": {
  "kernelspec": {
   "display_name": "BCentralAPI",
   "language": "python",
   "name": "python3"
  },
  "language_info": {
   "codemirror_mode": {
    "name": "ipython",
    "version": 3
   },
   "file_extension": ".py",
   "mimetype": "text/x-python",
   "name": "python",
   "nbconvert_exporter": "python",
   "pygments_lexer": "ipython3",
   "version": "3.10.8"
  },
  "orig_nbformat": 4,
  "vscode": {
   "interpreter": {
    "hash": "af84d4b9199dd6df32033e6bd2306e08e7bd67e4b8d317fd323d58070251004e"
   }
  }
 },
 "nbformat": 4,
 "nbformat_minor": 2
}
